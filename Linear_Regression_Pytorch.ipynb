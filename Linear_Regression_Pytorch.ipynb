{
  "nbformat": 4,
  "nbformat_minor": 0,
  "metadata": {
    "colab": {
      "name": "Linear Regression Pytorch.ipynb",
      "provenance": [],
      "collapsed_sections": []
    },
    "kernelspec": {
      "name": "python3",
      "display_name": "Python 3"
    }
  },
  "cells": [
    {
      "cell_type": "code",
      "metadata": {
        "id": "fFseuE3I_coN"
      },
      "source": [
        "#Custom modules\n",
        "#How  we generally use LInear Class\n",
        "import torch\n",
        "import torch.nn as nn\n",
        "import matplotlib.pyplot as plt\n",
        "import numpy as np\n"
      ],
      "execution_count": 1,
      "outputs": []
    },
    {
      "cell_type": "code",
      "metadata": {
        "colab": {
          "base_uri": "https://localhost:8080/",
          "height": 279
        },
        "id": "JmjT30OyGD_r",
        "outputId": "a12a0434-c339-4472-9a57-c9bdcad666e7"
      },
      "source": [
        "#creating dataset\n",
        "x=torch.randn(100,1)*10\n",
        "y=x+3*torch.randn(100,1)\n",
        "plt.plot(x.numpy(),y.numpy(),'o')\n",
        "plt.ylabel('y')\n",
        "plt.xlabel('x')\n",
        "plt.show()\n",
        "#After creating dataset we need to fit our model"
      ],
      "execution_count": 2,
      "outputs": [
        {
          "output_type": "display_data",
          "data": {
            "image/png": "[encoded data removed]",
            "text/plain": [
              "<Figure size 432x288 with 1 Axes>"
            ]
          },
          "metadata": {
            "tags": [],
            "needs_background": "light"
          }
        }
      ]
    },
    {
      "cell_type": "code",
      "metadata": {
        "id": "k8v-R57GBvUA"
      },
      "source": [
        "class LR(nn.Module):\n",
        "\n",
        "  def __init__(self,input_size,output_size):\n",
        "    super().__init__()\n",
        "    self.linear=nn.Linear(input_size,output_size)\n",
        "  def forward(self,x):\n",
        "    pred=self.linear(x)\n",
        "    return pred\n",
        "\n"
      ],
      "execution_count": 3,
      "outputs": []
    },
    {
      "cell_type": "code",
      "metadata": {
        "colab": {
          "base_uri": "https://localhost:8080/"
        },
        "id": "J4-gQ2PdDXV5",
        "outputId": "1c45a184-0266-4061-9776-8a38666e45aa"
      },
      "source": [
        "torch.manual_seed(1)\n",
        "model=LR(1,1)\n",
        "print(model)"
      ],
      "execution_count": 4,
      "outputs": [
        {
          "output_type": "stream",
          "text": [
            "LR(\n",
            "  (linear): Linear(in_features=1, out_features=1, bias=True)\n",
            ")\n"
          ],
          "name": "stdout"
        }
      ]
    },
    {
      "cell_type": "code",
      "metadata": {
        "colab": {
          "base_uri": "https://localhost:8080/"
        },
        "id": "tyjPMFfEH7rQ",
        "outputId": "30c428ec-f22c-4667-fb4f-13c2f12260e6"
      },
      "source": [
        "w,b=model.parameters()\n",
        "print(w,b)"
      ],
      "execution_count": 5,
      "outputs": [
        {
          "output_type": "stream",
          "text": [
            "Parameter containing:\n",
            "tensor([[0.5153]], requires_grad=True) Parameter containing:\n",
            "tensor([-0.4414], requires_grad=True)\n"
          ],
          "name": "stdout"
        }
      ]
    },
    {
      "cell_type": "code",
      "metadata": {
        "id": "_mF7rzBnIKLT"
      },
      "source": [
        "#w1=w[0][0].item()\n",
        "#b1=b[0].item()\n",
        "#print(w1,b1)\n",
        "def get_params():\n",
        "  return(w[0][0].item(),b[0].item())"
      ],
      "execution_count": 6,
      "outputs": []
    },
    {
      "cell_type": "code",
      "metadata": {
        "id": "1T2uhVeQITXr"
      },
      "source": [
        "def plot_fit(title):\n",
        "  plt.title=title\n",
        "  w1,b1=get_params()\n",
        "  x1=np.array([-30,30])\n",
        "  y1=w1*x1+b1\n",
        "  plt.plot(x1,y1,'r')\n",
        "  plt.scatter(x,y)\n",
        "  plt.show()\n"
      ],
      "execution_count": 7,
      "outputs": []
    },
    {
      "cell_type": "code",
      "metadata": {
        "colab": {
          "base_uri": "https://localhost:8080/",
          "height": 265
        },
        "id": "Fdkg2zhBKdtG",
        "outputId": "374ed914-f61d-4e3b-c36c-4e55a4085308"
      },
      "source": [
        "plot_fit('Initial_Model')"
      ],
      "execution_count": 8,
      "outputs": [
        {
          "output_type": "display_data",
          "data": {
            "image/png": "[encoded data removed]",
            "text/plain": [
              "<Figure size 432x288 with 1 Axes>"
            ]
          },
          "metadata": {
            "tags": [],
            "needs_background": "light"
          }
        }
      ]
    },
    {
      "cell_type": "code",
      "metadata": {
        "id": "QYcuAQsLKssI"
      },
      "source": [
        "criterian=nn.MSELoss()\n",
        "optimizer=torch.optim.SGD(model.parameters(),lr=0.01)"
      ],
      "execution_count": 9,
      "outputs": []
    },
    {
      "cell_type": "code",
      "metadata": {
        "colab": {
          "base_uri": "https://localhost:8080/"
        },
        "id": "YYK3tiQ7zN6-",
        "outputId": "d9ea531f-afb5-47c7-e2bf-3cbe06a148e1"
      },
      "source": [
        "epochs=100\n",
        "losses=[]\n",
        "for i in range(epochs):\n",
        "  y_pred=model.forward(x)\n",
        "  loss=criterian(y_pred,y)\n",
        "  print(\"epoch:\",i,\"loss\",loss.item())\n",
        "  losses.append(loss)\n",
        "  optimizer.zero_grad()\n",
        "  loss.backward()\n",
        "  optimizer.step()"
      ],
      "execution_count": 10,
      "outputs": [
        {
          "output_type": "stream",
          "text": [
            "epoch: 0 loss 30.411836624145508\n",
            "epoch: 1 loss 17.605026245117188\n",
            "epoch: 2 loss 12.268651008605957\n",
            "epoch: 3 loss 10.043478965759277\n",
            "epoch: 4 loss 9.114096641540527\n",
            "epoch: 5 loss 8.72445297241211\n",
            "epoch: 6 loss 8.559686660766602\n",
            "epoch: 7 loss 8.488666534423828\n",
            "epoch: 8 loss 8.456779479980469\n",
            "epoch: 9 loss 8.441280364990234\n",
            "epoch: 10 loss 8.432689666748047\n",
            "epoch: 11 loss 8.427057266235352\n",
            "epoch: 12 loss 8.422738075256348\n",
            "epoch: 13 loss 8.419039726257324\n",
            "epoch: 14 loss 8.415675163269043\n",
            "epoch: 15 loss 8.412516593933105\n",
            "epoch: 16 loss 8.409514427185059\n",
            "epoch: 17 loss 8.40664005279541\n",
            "epoch: 18 loss 8.403882026672363\n",
            "epoch: 19 loss 8.40123176574707\n",
            "epoch: 20 loss 8.398685455322266\n",
            "epoch: 21 loss 8.396236419677734\n",
            "epoch: 22 loss 8.393882751464844\n",
            "epoch: 23 loss 8.391618728637695\n",
            "epoch: 24 loss 8.38944149017334\n",
            "epoch: 25 loss 8.387350082397461\n",
            "epoch: 26 loss 8.385335922241211\n",
            "epoch: 27 loss 8.383401870727539\n",
            "epoch: 28 loss 8.381540298461914\n",
            "epoch: 29 loss 8.37975025177002\n",
            "epoch: 30 loss 8.378029823303223\n",
            "epoch: 31 loss 8.376376152038574\n",
            "epoch: 32 loss 8.374785423278809\n",
            "epoch: 33 loss 8.373254776000977\n",
            "epoch: 34 loss 8.371783256530762\n",
            "epoch: 35 loss 8.370368957519531\n",
            "epoch: 36 loss 8.369009017944336\n",
            "epoch: 37 loss 8.367701530456543\n",
            "epoch: 38 loss 8.366442680358887\n",
            "epoch: 39 loss 8.365233421325684\n",
            "epoch: 40 loss 8.364070892333984\n",
            "epoch: 41 loss 8.362951278686523\n",
            "epoch: 42 loss 8.361878395080566\n",
            "epoch: 43 loss 8.36084270477295\n",
            "epoch: 44 loss 8.359848976135254\n",
            "epoch: 45 loss 8.358892440795898\n",
            "epoch: 46 loss 8.3579740524292\n",
            "epoch: 47 loss 8.357089042663574\n",
            "epoch: 48 loss 8.356239318847656\n",
            "epoch: 49 loss 8.355422019958496\n",
            "epoch: 50 loss 8.354636192321777\n",
            "epoch: 51 loss 8.353880882263184\n",
            "epoch: 52 loss 8.353154182434082\n",
            "epoch: 53 loss 8.352455139160156\n",
            "epoch: 54 loss 8.35178279876709\n",
            "epoch: 55 loss 8.351136207580566\n",
            "epoch: 56 loss 8.350515365600586\n",
            "epoch: 57 loss 8.3499174118042\n",
            "epoch: 58 loss 8.349342346191406\n",
            "epoch: 59 loss 8.348791122436523\n",
            "epoch: 60 loss 8.348259925842285\n",
            "epoch: 61 loss 8.347748756408691\n",
            "epoch: 62 loss 8.347258567810059\n",
            "epoch: 63 loss 8.346786499023438\n",
            "epoch: 64 loss 8.346331596374512\n",
            "epoch: 65 loss 8.345895767211914\n",
            "epoch: 66 loss 8.345475196838379\n",
            "epoch: 67 loss 8.345071792602539\n",
            "epoch: 68 loss 8.344683647155762\n",
            "epoch: 69 loss 8.34430980682373\n",
            "epoch: 70 loss 8.343951225280762\n",
            "epoch: 71 loss 8.343605995178223\n",
            "epoch: 72 loss 8.343274116516113\n",
            "epoch: 73 loss 8.342955589294434\n",
            "epoch: 74 loss 8.342647552490234\n",
            "epoch: 75 loss 8.342351913452148\n",
            "epoch: 76 loss 8.342068672180176\n",
            "epoch: 77 loss 8.341794967651367\n",
            "epoch: 78 loss 8.341532707214355\n",
            "epoch: 79 loss 8.341280937194824\n",
            "epoch: 80 loss 8.34103775024414\n",
            "epoch: 81 loss 8.340805053710938\n",
            "epoch: 82 loss 8.340580940246582\n",
            "epoch: 83 loss 8.340365409851074\n",
            "epoch: 84 loss 8.340157508850098\n",
            "epoch: 85 loss 8.339959144592285\n",
            "epoch: 86 loss 8.339766502380371\n",
            "epoch: 87 loss 8.339581489562988\n",
            "epoch: 88 loss 8.339404106140137\n",
            "epoch: 89 loss 8.339234352111816\n",
            "epoch: 90 loss 8.339070320129395\n",
            "epoch: 91 loss 8.338912010192871\n",
            "epoch: 92 loss 8.338761329650879\n",
            "epoch: 93 loss 8.338615417480469\n",
            "epoch: 94 loss 8.338475227355957\n",
            "epoch: 95 loss 8.338339805603027\n",
            "epoch: 96 loss 8.338210105895996\n",
            "epoch: 97 loss 8.338086128234863\n",
            "epoch: 98 loss 8.337965965270996\n",
            "epoch: 99 loss 8.337850570678711\n"
          ],
          "name": "stdout"
        }
      ]
    },
    {
      "cell_type": "code",
      "metadata": {
        "colab": {
          "base_uri": "https://localhost:8080/",
          "height": 296
        },
        "id": "duz44ZDhzuQ6",
        "outputId": "5991b865-2161-40e2-d7c5-119a2c7a88eb"
      },
      "source": [
        "plt.plot(range(epochs),losses)\n",
        "plt.ylabel('Loss')\n",
        "plt.xlabel('epoch')"
      ],
      "execution_count": 11,
      "outputs": [
        {
          "output_type": "execute_result",
          "data": {
            "text/plain": [
              "Text(0.5, 0, 'epoch')"
            ]
          },
          "metadata": {
            "tags": []
          },
          "execution_count": 11
        },
        {
          "output_type": "display_data",
          "data": {
            "image/png": "[encoded data removed]",
            "text/plain": [
              "<Figure size 432x288 with 1 Axes>"
            ]
          },
          "metadata": {
            "tags": [],
            "needs_background": "light"
          }
        }
      ]
    },
    {
      "cell_type": "code",
      "metadata": {
        "colab": {
          "base_uri": "https://localhost:8080/",
          "height": 265
        },
        "id": "PZKYBxnR3hIw",
        "outputId": "47588f7e-ebd6-483a-9849-e9c9ea70760c"
      },
      "source": [
        "plot_fit(\"Trained Model\")"
      ],
      "execution_count": 12,
      "outputs": [
        {
          "output_type": "display_data",
          "data": {
            "image/png": "[encoded data removed]",
            "text/plain": [
              "<Figure size 432x288 with 1 Axes>"
            ]
          },
          "metadata": {
            "tags": [],
            "needs_background": "light"
          }
        }
      ]
    },
    {
      "cell_type": "code",
      "metadata": {
        "id": "Ab2CqhjJ4khO"
      },
      "source": [
        ""
      ],
      "execution_count": 12,
      "outputs": []
    }
  ]
}